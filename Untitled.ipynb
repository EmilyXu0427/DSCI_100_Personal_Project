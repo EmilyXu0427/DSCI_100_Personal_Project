{
 "cells": [
  {
   "cell_type": "markdown",
   "id": "23e55d18-32e5-46f7-aa0c-0fdf6c70cc91",
   "metadata": {},
   "source": [
    "Title"
   ]
  },
  {
   "cell_type": "code",
   "execution_count": null,
   "id": "8839d365-a609-4c47-8716-d5f8138c0665",
   "metadata": {},
   "outputs": [],
   "source": []
  }
 ],
 "metadata": {
  "kernelspec": {
   "display_name": "R",
   "language": "R",
   "name": "ir"
  },
  "language_info": {
   "codemirror_mode": "r",
   "file_extension": ".r",
   "mimetype": "text/x-r-source",
   "name": "R",
   "pygments_lexer": "r",
   "version": "4.3.1"
  }
 },
 "nbformat": 4,
 "nbformat_minor": 5
}
